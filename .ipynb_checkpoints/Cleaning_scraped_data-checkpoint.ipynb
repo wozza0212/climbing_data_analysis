{
 "cells": [
  {
   "cell_type": "markdown",
   "id": "9d351b8c",
   "metadata": {},
   "source": [
    "Import all necessary packages"
   ]
  },
  {
   "cell_type": "code",
   "execution_count": 16,
   "id": "5070570c",
   "metadata": {},
   "outputs": [],
   "source": [
    "import pandas as pd\n",
    "import os\n",
    "from pathlib import Path"
   ]
  },
  {
   "cell_type": "code",
   "execution_count": null,
   "id": "fe44417e",
   "metadata": {},
   "outputs": [],
   "source": [
    "\n"
   ]
  },
  {
   "cell_type": "code",
   "execution_count": 17,
   "id": "0156b260",
   "metadata": {},
   "outputs": [],
   "source": [
    "data = []\n",
    "base_path = Path('Climbing_locations')\n",
    "files_in_path = base_path.iterdir()\n",
    "for x in files_in_path:\n",
    "    data.append(x)"
   ]
  },
  {
   "cell_type": "code",
   "execution_count": 18,
   "id": "3aa51744",
   "metadata": {},
   "outputs": [],
   "source": [
    "df_list = [pd.read_json(x) for x in data]"
   ]
  },
  {
   "cell_type": "code",
   "execution_count": 19,
   "id": "c881a6f5",
   "metadata": {},
   "outputs": [],
   "source": [
    "bouldering_locations = pd.concat(df_list, ignore_index=True)"
   ]
  },
  {
   "cell_type": "code",
   "execution_count": 20,
   "id": "65aa4449",
   "metadata": {},
   "outputs": [
    {
     "name": "stdout",
     "output_type": "stream",
     "text": [
      "                       Area Name:                         Coordinates:\n",
      "0                 Slawston Bridge  leafletMap.showArrow(52.532,-0.849)\n",
      "1                Greetwell Quarry  leafletMap.showArrow(53.238,-0.496)\n",
      "2                   Finedon Slabs  leafletMap.showArrow(52.341,-0.660)\n",
      "3            Rothley Brook Bridge  leafletMap.showArrow(52.714,-1.125)\n",
      "4  Histon Road Recreation Boulder   leafletMap.showArrow(52.218,0.110)\n"
     ]
    }
   ],
   "source": [
    "print(bouldering_locations.head())"
   ]
  },
  {
   "cell_type": "code",
   "execution_count": 21,
   "id": "be01f907",
   "metadata": {},
   "outputs": [
    {
     "name": "stdout",
     "output_type": "stream",
     "text": [
      "<class 'pandas.core.frame.DataFrame'>\n",
      "RangeIndex: 11560 entries, 0 to 11559\n",
      "Data columns (total 2 columns):\n",
      " #   Column        Non-Null Count  Dtype \n",
      "---  ------        --------------  ----- \n",
      " 0   Area Name:    11560 non-null  object\n",
      " 1   Coordinates:  11521 non-null  object\n",
      "dtypes: object(2)\n",
      "memory usage: 180.8+ KB\n",
      "None\n"
     ]
    }
   ],
   "source": [
    "print(bouldering_locations.info())"
   ]
  },
  {
   "cell_type": "code",
   "execution_count": 22,
   "id": "8c18e894",
   "metadata": {},
   "outputs": [],
   "source": [
    "bouldering_locations = bouldering_locations.dropna()"
   ]
  },
  {
   "cell_type": "code",
   "execution_count": 25,
   "id": "1ab4c90f",
   "metadata": {},
   "outputs": [],
   "source": [
    "bouldering_locations['Coordinates:'] = bouldering_locations['Coordinates:'].str.split('w')"
   ]
  },
  {
   "cell_type": "code",
   "execution_count": 31,
   "id": "eec05afb",
   "metadata": {},
   "outputs": [],
   "source": [
    "bouldering_locations['Coordinates:'] =bouldering_locations['Coordinates:'].str[2]"
   ]
  },
  {
   "cell_type": "code",
   "execution_count": 36,
   "id": "4f0a926a",
   "metadata": {},
   "outputs": [
    {
     "name": "stdout",
     "output_type": "stream",
     "text": [
      "0        (52.532,-0.849)\n",
      "1        (53.238,-0.496)\n",
      "2        (52.341,-0.660)\n",
      "3        (52.714,-1.125)\n",
      "4         (52.218,0.110)\n",
      "              ...       \n",
      "11555    (53.087,-1.504)\n",
      "11556    (53.528,-1.252)\n",
      "11557    (54.032,-1.875)\n",
      "11558    (54.072,-2.295)\n",
      "11559    (54.014,-1.804)\n",
      "Name: Coordinates:, Length: 11521, dtype: object\n"
     ]
    }
   ],
   "source": [
    "print(bouldering_locations['Coordinates:'])"
   ]
  },
  {
   "cell_type": "code",
   "execution_count": 39,
   "id": "f7d9df59",
   "metadata": {},
   "outputs": [],
   "source": [
    "bouldering_locations.to_csv('bouldering_coordinates.csv')"
   ]
  },
  {
   "cell_type": "code",
   "execution_count": null,
   "id": "4baacb6e",
   "metadata": {},
   "outputs": [],
   "source": []
  }
 ],
 "metadata": {
  "kernelspec": {
   "display_name": "Python 3 (ipykernel)",
   "language": "python",
   "name": "python3"
  },
  "language_info": {
   "codemirror_mode": {
    "name": "ipython",
    "version": 3
   },
   "file_extension": ".py",
   "mimetype": "text/x-python",
   "name": "python",
   "nbconvert_exporter": "python",
   "pygments_lexer": "ipython3",
   "version": "3.8.11"
  }
 },
 "nbformat": 4,
 "nbformat_minor": 5
}
