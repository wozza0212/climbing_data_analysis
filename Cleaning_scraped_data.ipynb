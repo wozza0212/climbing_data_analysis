{
 "cells": [
  {
   "cell_type": "markdown",
   "id": "9d351b8c",
   "metadata": {},
   "source": [
    "Import all necessary packages"
   ]
  },
  {
   "cell_type": "code",
   "execution_count": 2,
   "id": "5070570c",
   "metadata": {},
   "outputs": [],
   "source": [
    "import pandas as pd\n",
    "import os\n",
    "from pathlib import Path"
   ]
  },
  {
   "cell_type": "markdown",
   "id": "b862580b",
   "metadata": {},
   "source": [
    "Use path to open files, this will alllow pandas to convert them into a data frame, withou this files were opening as objects and unable to be converted"
   ]
  },
  {
   "cell_type": "code",
   "execution_count": 3,
   "id": "0156b260",
   "metadata": {},
   "outputs": [],
   "source": [
    "data = []\n",
    "base_path = Path('Climbing_locations')\n",
    "files_in_path = base_path.iterdir()\n",
    "for x in files_in_path:\n",
    "    data.append(x)"
   ]
  },
  {
   "cell_type": "markdown",
   "id": "f8927315",
   "metadata": {},
   "source": [
    "Use pythons "
   ]
  },
  {
   "cell_type": "code",
   "execution_count": 4,
   "id": "3aa51744",
   "metadata": {},
   "outputs": [],
   "source": [
    "df_list = [pd.read_json(x) for x in data]"
   ]
  },
  {
   "cell_type": "markdown",
   "id": "7bca9007",
   "metadata": {},
   "source": []
  },
  {
   "cell_type": "code",
   "execution_count": 5,
   "id": "c881a6f5",
   "metadata": {},
   "outputs": [],
   "source": [
    "bouldering_locations = pd.concat(df_list, ignore_index=True)"
   ]
  },
  {
   "cell_type": "markdown",
   "id": "6732343f",
   "metadata": {},
   "source": []
  },
  {
   "cell_type": "code",
   "execution_count": 6,
   "id": "65aa4449",
   "metadata": {},
   "outputs": [
    {
     "name": "stdout",
     "output_type": "stream",
     "text": [
      "                       Area Name:                         Coordinates:\n",
      "0                 Slawston Bridge  leafletMap.showArrow(52.532,-0.849)\n",
      "1                Greetwell Quarry  leafletMap.showArrow(53.238,-0.496)\n",
      "2                   Finedon Slabs  leafletMap.showArrow(52.341,-0.660)\n",
      "3            Rothley Brook Bridge  leafletMap.showArrow(52.714,-1.125)\n",
      "4  Histon Road Recreation Boulder   leafletMap.showArrow(52.218,0.110)\n"
     ]
    }
   ],
   "source": [
    "print(bouldering_locations.head())"
   ]
  },
  {
   "cell_type": "markdown",
   "id": "c5a03ddc",
   "metadata": {},
   "source": []
  },
  {
   "cell_type": "code",
   "execution_count": 7,
   "id": "be01f907",
   "metadata": {},
   "outputs": [
    {
     "name": "stdout",
     "output_type": "stream",
     "text": [
      "<class 'pandas.core.frame.DataFrame'>\n",
      "RangeIndex: 11560 entries, 0 to 11559\n",
      "Data columns (total 2 columns):\n",
      " #   Column        Non-Null Count  Dtype \n",
      "---  ------        --------------  ----- \n",
      " 0   Area Name:    11560 non-null  object\n",
      " 1   Coordinates:  11521 non-null  object\n",
      "dtypes: object(2)\n",
      "memory usage: 180.8+ KB\n",
      "None\n"
     ]
    }
   ],
   "source": [
    "print(bouldering_locations.info())"
   ]
  },
  {
   "cell_type": "markdown",
   "id": "bb13daf8",
   "metadata": {},
   "source": []
  },
  {
   "cell_type": "code",
   "execution_count": 8,
   "id": "8c18e894",
   "metadata": {},
   "outputs": [],
   "source": [
    "bouldering_locations = bouldering_locations.dropna()"
   ]
  },
  {
   "cell_type": "markdown",
   "id": "69afaa89",
   "metadata": {},
   "source": []
  },
  {
   "cell_type": "code",
   "execution_count": 9,
   "id": "1ab4c90f",
   "metadata": {},
   "outputs": [],
   "source": [
    "bouldering_locations['Coordinates:'] = bouldering_locations['Coordinates:'].str.split('w')"
   ]
  },
  {
   "cell_type": "markdown",
   "id": "ccb725e0",
   "metadata": {},
   "source": []
  },
  {
   "cell_type": "code",
   "execution_count": 10,
   "id": "eec05afb",
   "metadata": {},
   "outputs": [],
   "source": [
    "bouldering_locations['Coordinates:'] =bouldering_locations['Coordinates:'].str[2]"
   ]
  },
  {
   "cell_type": "markdown",
   "id": "b1607e64",
   "metadata": {},
   "source": []
  },
  {
   "cell_type": "code",
   "execution_count": 11,
   "id": "4f0a926a",
   "metadata": {},
   "outputs": [
    {
     "name": "stdout",
     "output_type": "stream",
     "text": [
      "0        (52.532,-0.849)\n",
      "1        (53.238,-0.496)\n",
      "2        (52.341,-0.660)\n",
      "3        (52.714,-1.125)\n",
      "4         (52.218,0.110)\n",
      "              ...       \n",
      "11555    (53.087,-1.504)\n",
      "11556    (53.528,-1.252)\n",
      "11557    (54.032,-1.875)\n",
      "11558    (54.072,-2.295)\n",
      "11559    (54.014,-1.804)\n",
      "Name: Coordinates:, Length: 11521, dtype: object\n"
     ]
    }
   ],
   "source": [
    "print(bouldering_locations['Coordinates:'])"
   ]
  },
  {
   "cell_type": "markdown",
   "id": "740465e9",
   "metadata": {},
   "source": []
  },
  {
   "cell_type": "code",
   "execution_count": 14,
   "id": "d0e96e7e",
   "metadata": {},
   "outputs": [],
   "source": [
    "bouldering_locations['Coordinates:']=bouldering_locations['Coordinates:'].str[1:-1]"
   ]
  },
  {
   "cell_type": "markdown",
   "id": "d44140e6",
   "metadata": {},
   "source": []
  },
  {
   "cell_type": "code",
   "execution_count": 16,
   "id": "80ebe1dd",
   "metadata": {},
   "outputs": [],
   "source": [
    "bouldering_locations['Coordinates:']=bouldering_locations['Coordinates:'].str.split(',')"
   ]
  },
  {
   "cell_type": "markdown",
   "id": "c787498b",
   "metadata": {},
   "source": []
  },
  {
   "cell_type": "code",
   "execution_count": 18,
   "id": "299dc9ed",
   "metadata": {},
   "outputs": [],
   "source": [
    "bouldering_locations['Latitude'] =bouldering_locations['Coordinates:'].str[0]"
   ]
  },
  {
   "cell_type": "markdown",
   "id": "6836530a",
   "metadata": {},
   "source": []
  },
  {
   "cell_type": "code",
   "execution_count": 19,
   "id": "94382d16",
   "metadata": {},
   "outputs": [],
   "source": [
    "bouldering_locations['Longitude'] = bouldering_locations['Coordinates:'].str[1]"
   ]
  },
  {
   "cell_type": "markdown",
   "id": "fe5b127e",
   "metadata": {},
   "source": []
  },
  {
   "cell_type": "code",
   "execution_count": 21,
   "id": "2f0029ed",
   "metadata": {},
   "outputs": [
    {
     "name": "stdout",
     "output_type": "stream",
     "text": [
      "                       Area Name:     Coordinates: Latitude Longitude\n",
      "0                 Slawston Bridge  [2.532, -0.849]    2.532    -0.849\n",
      "1                Greetwell Quarry  [3.238, -0.496]    3.238    -0.496\n",
      "2                   Finedon Slabs  [2.341, -0.660]    2.341    -0.660\n",
      "3            Rothley Brook Bridge  [2.714, -1.125]    2.714    -1.125\n",
      "4  Histon Road Recreation Boulder   [2.218, 0.110]    2.218     0.110\n"
     ]
    }
   ],
   "source": [
    "print(bouldering_locations.head())"
   ]
  },
  {
   "cell_type": "markdown",
   "id": "ea485c86",
   "metadata": {},
   "source": []
  },
  {
   "cell_type": "code",
   "execution_count": 26,
   "id": "f5d4976c",
   "metadata": {},
   "outputs": [],
   "source": [
    "bouldering_locations = bouldering_locations.drop(columns=['Coordinates:'])"
   ]
  },
  {
   "cell_type": "markdown",
   "id": "12a58532",
   "metadata": {},
   "source": []
  },
  {
   "cell_type": "code",
   "execution_count": 27,
   "id": "79b4de0b",
   "metadata": {},
   "outputs": [
    {
     "name": "stdout",
     "output_type": "stream",
     "text": [
      "                           Area Name: Latitude Longitude\n",
      "0                     Slawston Bridge    2.532    -0.849\n",
      "1                    Greetwell Quarry    3.238    -0.496\n",
      "2                       Finedon Slabs    2.341    -0.660\n",
      "3                Rothley Brook Bridge    2.714    -1.125\n",
      "4      Histon Road Recreation Boulder    2.218     0.110\n",
      "...                               ...      ...       ...\n",
      "11555                   Duke's Quarry    3.087    -1.504\n",
      "11556                 Barnburgh Cliff    3.528    -1.252\n",
      "11557                      Hen Stones    4.032    -1.875\n",
      "11558                    Hostel Rocks    4.072    -2.295\n",
      "11559                   Aked's Clough    4.014    -1.804\n",
      "\n",
      "[11521 rows x 3 columns]\n"
     ]
    }
   ],
   "source": [
    "print(bouldering_locations)"
   ]
  },
  {
   "cell_type": "markdown",
   "id": "3619c325",
   "metadata": {},
   "source": []
  },
  {
   "cell_type": "code",
   "execution_count": 28,
   "id": "d14d748f",
   "metadata": {},
   "outputs": [],
   "source": [
    "bouldering_locations.to_csv('bouldering_coordinates.csv')"
   ]
  },
  {
   "cell_type": "code",
   "execution_count": null,
   "id": "bae99459",
   "metadata": {},
   "outputs": [],
   "source": []
  },
  {
   "cell_type": "code",
   "execution_count": null,
   "id": "351e8e57",
   "metadata": {},
   "outputs": [],
   "source": []
  },
  {
   "cell_type": "code",
   "execution_count": null,
   "id": "83d53b19",
   "metadata": {},
   "outputs": [],
   "source": []
  },
  {
   "cell_type": "code",
   "execution_count": null,
   "id": "9e611e12",
   "metadata": {},
   "outputs": [],
   "source": []
  },
  {
   "cell_type": "code",
   "execution_count": 39,
   "id": "f7d9df59",
   "metadata": {},
   "outputs": [],
   "source": []
  },
  {
   "cell_type": "code",
   "execution_count": null,
   "id": "4baacb6e",
   "metadata": {},
   "outputs": [],
   "source": []
  }
 ],
 "metadata": {
  "kernelspec": {
   "display_name": "Python 3 (ipykernel)",
   "language": "python",
   "name": "python3"
  },
  "language_info": {
   "codemirror_mode": {
    "name": "ipython",
    "version": 3
   },
   "file_extension": ".py",
   "mimetype": "text/x-python",
   "name": "python",
   "nbconvert_exporter": "python",
   "pygments_lexer": "ipython3",
   "version": "3.8.11"
  }
 },
 "nbformat": 4,
 "nbformat_minor": 5
}
