{
 "cells": [
  {
   "cell_type": "markdown",
   "id": "344b0ff8",
   "metadata": {},
   "source": [
    "Import all necessary packages"
   ]
  },
  {
   "cell_type": "code",
   "execution_count": 27,
   "id": "33209c41",
   "metadata": {},
   "outputs": [],
   "source": [
    "import pandas as pd\n",
    "import os"
   ]
  },
  {
   "cell_type": "code",
   "execution_count": 28,
   "id": "376bd5dd",
   "metadata": {},
   "outputs": [],
   "source": [
    "location_list = os.listdir('Climbing_locations')\n",
    "location_names = [x[:-5] for x in location_list]\n",
    "filenames = [x for x in location_list]"
   ]
  },
  {
   "cell_type": "code",
   "execution_count": 29,
   "id": "26b4eea2",
   "metadata": {},
   "outputs": [
    {
     "name": "stdout",
     "output_type": "stream",
     "text": [
      "['spalding.json', 'tonbridge.json', 'snowdonia.json', 'carlisle.json', 'achnasheen.json', '.DS_Store', 'lavry.json', 'kendal.json', 'exeter.json', 'st_bowells.json', 'bodmin.json', 'stafford.json', 'salisbury.json', 'reading.json', 'carsphairn.json', 'alford.json', 'worcester.json', 'pitlochry.json', 'oswestry.json', 'glencoe.json', 'hopefully_all.json', 'cambridge.json', 'bristola.json', 'blackburn.json', 'darlington.json', 'glasgow.json', 'brecon.json', 'test_location.json', 'edinburgh.json', 'lincoln.json', 'otterburn.json', 'leeds.json', 'fort_augustus.json', 'norwich.json', 'dufftown.json', 'manchester.json']\n",
      "['spalding', 'tonbridge', 'snowdonia', 'carlisle', 'achnasheen', '.DS_', 'lavry', 'kendal', 'exeter', 'st_bowells', 'bodmin', 'stafford', 'salisbury', 'reading', 'carsphairn', 'alford', 'worcester', 'pitlochry', 'oswestry', 'glencoe', 'hopefully_all', 'cambridge', 'bristola', 'blackburn', 'darlington', 'glasgow', 'brecon', 'test_location', 'edinburgh', 'lincoln', 'otterburn', 'leeds', 'fort_augustus', 'norwich', 'dufftown', 'manchester']\n"
     ]
    }
   ],
   "source": [
    "print(filenames)\n",
    "print(location_names)"
   ]
  },
  {
   "cell_type": "code",
   "execution_count": null,
   "id": "44f0c9d2",
   "metadata": {},
   "outputs": [],
   "source": []
  },
  {
   "cell_type": "code",
   "execution_count": null,
   "id": "d62d434b",
   "metadata": {},
   "outputs": [],
   "source": []
  },
  {
   "cell_type": "code",
   "execution_count": null,
   "id": "6c60c0f7",
   "metadata": {},
   "outputs": [],
   "source": []
  },
  {
   "cell_type": "code",
   "execution_count": null,
   "id": "20e1776c",
   "metadata": {},
   "outputs": [],
   "source": []
  },
  {
   "cell_type": "code",
   "execution_count": null,
   "id": "68968f7c",
   "metadata": {},
   "outputs": [],
   "source": []
  },
  {
   "cell_type": "code",
   "execution_count": null,
   "id": "d2f7bfcb",
   "metadata": {},
   "outputs": [],
   "source": []
  },
  {
   "cell_type": "code",
   "execution_count": null,
   "id": "095ab20f",
   "metadata": {},
   "outputs": [],
   "source": []
  },
  {
   "cell_type": "code",
   "execution_count": null,
   "id": "a7555380",
   "metadata": {},
   "outputs": [],
   "source": []
  }
 ],
 "metadata": {
  "kernelspec": {
   "display_name": "Python 3 (ipykernel)",
   "language": "python",
   "name": "python3"
  },
  "language_info": {
   "codemirror_mode": {
    "name": "ipython",
    "version": 3
   },
   "file_extension": ".py",
   "mimetype": "text/x-python",
   "name": "python",
   "nbconvert_exporter": "python",
   "pygments_lexer": "ipython3",
   "version": "3.8.11"
  }
 },
 "nbformat": 4,
 "nbformat_minor": 5
}
